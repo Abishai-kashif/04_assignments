{
 "cells": [
  {
   "cell_type": "markdown",
   "id": "662dca3b",
   "metadata": {},
   "source": [
    "# Mad Libs"
   ]
  },
  {
   "cell_type": "code",
   "execution_count": 1,
   "id": "2e16511b",
   "metadata": {},
   "outputs": [
    {
     "name": "stdout",
     "output_type": "stream",
     "text": [
      "Panaversity is fun. I learned to program and used Python to make my a a a!\n"
     ]
    }
   ],
   "source": [
    "SENTENCE_START: str = \"Panaversity is fun. I learned to program and used Python to make my \" \n",
    "\n",
    "def main():\n",
    "    adjective: str = input(\"Please type an adjective and press enter. \")\n",
    "    noun: str = input(\"Please type a noun and press enter. \")\n",
    "    verb: str = input(\"Please type a verb and press enter. \")\n",
    "\n",
    "\n",
    "    print(SENTENCE_START + adjective + \" \" + noun + \" \" + verb + \"!\")\n",
    "\n",
    "\n",
    "if __name__ == '__main__':\n",
    "    main()"
   ]
  },
  {
   "cell_type": "markdown",
   "id": "56dccba7",
   "metadata": {},
   "source": [
    "# Guess the Number"
   ]
  },
  {
   "cell_type": "code",
   "execution_count": 2,
   "id": "b0cb2c46",
   "metadata": {},
   "outputs": [],
   "source": [
    "import random"
   ]
  },
  {
   "cell_type": "code",
   "execution_count": null,
   "id": "a0031ac3",
   "metadata": {},
   "outputs": [],
   "source": [
    "def main():\n",
    "    while True:\n",
    "        random_number: int = random.randint(0, 100)\n",
    "        guessed_number: int;\n",
    "        try:\n",
    "            guessed_number = int(input('Guess a number between 0 and 100: '))\n",
    "        except ValueError:\n",
    "            guessed_number = int(input('Please enter a valid number: '))\n",
    "\n",
    "        \n",
    "        match(guessed_number, random_number):\n",
    "            case (guessed_number, random_number) if guessed_number < random_number:\n",
    "                print('Too low')\n",
    "            case (guessed_number, random_number) if guessed_number > random_number:\n",
    "                print('Too high')\n",
    "            case _:\n",
    "                break\n",
    "\n",
    "    print(f'You got it! The number was {random_number}')\n",
    "\n",
    "\n",
    "\n",
    "if __name__ == '__main__':\n",
    "    main()"
   ]
  },
  {
   "cell_type": "markdown",
   "id": "2957fdf4",
   "metadata": {},
   "source": [
    "# Rock, Paper, Scissors"
   ]
  },
  {
   "cell_type": "code",
   "execution_count": 5,
   "id": "a5287d1d",
   "metadata": {},
   "outputs": [
    {
     "name": "stdout",
     "output_type": "stream",
     "text": [
      "Let's play Rock, Paper, Scissors!\n",
      "Computer chose scissors.\n",
      "You lose!\n",
      "\n",
      "Computer chose scissors.\n",
      "You win!\n",
      "\n"
     ]
    }
   ],
   "source": [
    "# rock_paper_scissors.py\n",
    "import random\n",
    "\n",
    "def main():\n",
    "    choices = ['rock', 'paper', 'scissors']\n",
    "    print(\"Let's play Rock, Paper, Scissors!\")\n",
    "    \n",
    "    while True:\n",
    "        user_choice = input(\"Enter rock, paper, or scissors (or 'quit' to stop): \").lower()\n",
    "        if user_choice == 'quit':\n",
    "            break\n",
    "        if user_choice not in choices:\n",
    "            print(\"Invalid choice. Try again.\")\n",
    "            continue\n",
    "\n",
    "        computer_choice = random.choice(choices)\n",
    "        print(f\"Computer chose {computer_choice}.\")\n",
    "\n",
    "        if user_choice == computer_choice:\n",
    "            print(\"It's a tie!\")\n",
    "        elif ((user_choice == 'rock' and computer_choice == 'scissors') or\n",
    "              (user_choice == 'paper' and computer_choice == 'rock') or\n",
    "              (user_choice == 'scissors' and computer_choice == 'paper')):\n",
    "            print(\"You win!\")\n",
    "        else:\n",
    "            print(\"You lose!\")\n",
    "\n",
    "        print()\n",
    "\n",
    "if __name__ == \"__main__\":\n",
    "    main()\n"
   ]
  },
  {
   "cell_type": "markdown",
   "id": "816ec89a",
   "metadata": {},
   "source": [
    "# Hangman Project"
   ]
  },
  {
   "cell_type": "code",
   "execution_count": 6,
   "id": "9f6cd38e",
   "metadata": {},
   "outputs": [
    {
     "name": "stdout",
     "output_type": "stream",
     "text": [
      "Welcome to Hangman!\n",
      "\n",
      "Word: _ _ _ _ _ _\n",
      "Incorrect! Attempts remaining: 5\n",
      "\n",
      "Word: _ _ _ _ _ _\n",
      "Good guess!\n",
      "\n",
      "Word: _ _ _ _ _ _\n",
      "Incorrect! Attempts remaining: 4\n",
      "\n",
      "Word: _ _ _ _ _ _\n",
      "You already guessed that letter.\n",
      "\n",
      "Word: _ _ _ _ _ _\n",
      "Incorrect! Attempts remaining: 3\n",
      "\n",
      "Word: _ _ _ _ _ _\n",
      "Incorrect! Attempts remaining: 2\n",
      "\n",
      "Word: _ _ _ _ _ _\n",
      "Incorrect! Attempts remaining: 1\n",
      "\n",
      "Word: _ _ _ _ _ _\n",
      "You already guessed that letter.\n",
      "\n",
      "Word: _ _ _ _ _ _\n",
      "Incorrect! Attempts remaining: 0\n",
      "\n",
      "Game over! The word was: python\n"
     ]
    }
   ],
   "source": [
    "import random\n",
    "\n",
    "def choose_word():\n",
    "    words = [\"python\", \"development\", \"hangman\", \"challenge\", \"programming\"]\n",
    "    return random.choice(words)\n",
    "\n",
    "def display_word(word, guessed_letters):\n",
    "    display = [letter if letter in guessed_letters else \"_\" for letter in word]\n",
    "    return \" \".join(display)\n",
    "\n",
    "def main():\n",
    "    word = choose_word()\n",
    "    guessed_letters = set()\n",
    "    attempts = 6  # Number of wrong guesses allowed\n",
    "\n",
    "    print(\"Welcome to Hangman!\")\n",
    "    \n",
    "    while attempts > 0:\n",
    "        print(\"\\nWord:\", display_word(word, guessed_letters))\n",
    "        guess = input(\"Guess a letter: \").lower()\n",
    "\n",
    "        if guess in guessed_letters:\n",
    "            print(\"You already guessed that letter.\")\n",
    "            continue\n",
    "\n",
    "        guessed_letters.add(guess)\n",
    "        if guess not in word:\n",
    "            attempts -= 1\n",
    "            print(f\"Incorrect! Attempts remaining: {attempts}\")\n",
    "        else:\n",
    "            print(\"Good guess!\")\n",
    "\n",
    "        # Check if user has guessed all the letters\n",
    "        if all(letter in guessed_letters for letter in word):\n",
    "            print(\"\\nCongratulations! You guessed the word:\", word)\n",
    "            break\n",
    "    else:\n",
    "        print(f\"\\nGame over! The word was: {word}\")\n",
    "\n",
    "if __name__ == \"__main__\":\n",
    "    main()\n"
   ]
  },
  {
   "cell_type": "markdown",
   "id": "9bd1bf27",
   "metadata": {},
   "source": [
    "# Countdown Timer "
   ]
  },
  {
   "cell_type": "code",
   "execution_count": 7,
   "id": "868db0bb",
   "metadata": {},
   "outputs": [
    {
     "name": "stdout",
     "output_type": "stream",
     "text": [
      "10\n",
      "9\n",
      "8\n",
      "7\n",
      "6\n",
      "5\n",
      "4\n",
      "3\n",
      "2\n",
      "1\n",
      "Time's up!\n"
     ]
    }
   ],
   "source": [
    "import time\n",
    "\n",
    "def main():\n",
    "    try:\n",
    "        seconds = int(input(\"Enter the number of seconds for the countdown: \"))\n",
    "    except ValueError:\n",
    "        print(\"Please enter a valid number.\")\n",
    "        return\n",
    "\n",
    "    for i in range(seconds, 0, -1):\n",
    "        print(i)\n",
    "        time.sleep(1)\n",
    "    print(\"Time's up!\")\n",
    "\n",
    "if __name__ == \"__main__\":\n",
    "    main()"
   ]
  },
  {
   "cell_type": "markdown",
   "id": "d7aae19a",
   "metadata": {},
   "source": [
    "# Password Generator"
   ]
  },
  {
   "cell_type": "code",
   "execution_count": 8,
   "id": "0049aeea",
   "metadata": {},
   "outputs": [
    {
     "name": "stdout",
     "output_type": "stream",
     "text": [
      "Your generated password is: U|kJuj%?\n"
     ]
    }
   ],
   "source": [
    "import string\n",
    "import random\n",
    "\n",
    "def generate_password(length=12):\n",
    "    # Characters to use: letters, digits, and punctuation.\n",
    "    characters = string.ascii_letters + string.digits + string.punctuation\n",
    "    password = ''.join(random.choice(characters) for _ in range(length))\n",
    "    return password\n",
    "\n",
    "def main():\n",
    "    try:\n",
    "        length = int(input(\"Enter desired password length (default 12): \") or \"12\")\n",
    "    except ValueError:\n",
    "        length = 12\n",
    "    password = generate_password(length)\n",
    "    print(\"Your generated password is:\", password)\n",
    "\n",
    "if __name__ == \"__main__\":\n",
    "    main()"
   ]
  },
  {
   "cell_type": "code",
   "execution_count": null,
   "id": "bff95f49",
   "metadata": {},
   "outputs": [],
   "source": []
  }
 ],
 "metadata": {
  "kernelspec": {
   "display_name": "python12",
   "language": "python",
   "name": "python3"
  },
  "language_info": {
   "codemirror_mode": {
    "name": "ipython",
    "version": 3
   },
   "file_extension": ".py",
   "mimetype": "text/x-python",
   "name": "python",
   "nbconvert_exporter": "python",
   "pygments_lexer": "ipython3",
   "version": "3.12.0"
  }
 },
 "nbformat": 4,
 "nbformat_minor": 5
}
