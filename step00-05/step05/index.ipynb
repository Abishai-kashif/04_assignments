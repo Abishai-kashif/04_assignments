{
 "cells": [
  {
   "cell_type": "markdown",
   "metadata": {},
   "source": [
    "# Problem Statement\n",
    "Guess My Number\n",
    "\n",
    "I am thinking of a number between 0 and 99... Enter a guess: 50 Your guess is too high\n",
    "\n",
    "Enter a new number: 25 Your guess is too low\n",
    "\n",
    "Enter a new number: 40 Your guess is too low\n",
    "\n",
    "Enter a new number: 45 Your guess is too low\n",
    "\n",
    "Enter a new number: 48 Congrats! The number was: 48"
   ]
  },
  {
   "cell_type": "code",
   "execution_count": 2,
   "metadata": {},
   "outputs": [],
   "source": [
    "import random"
   ]
  },
  {
   "cell_type": "code",
   "execution_count": null,
   "metadata": {},
   "outputs": [
    {
     "name": "stdout",
     "output_type": "stream",
     "text": [
      "Too high\n",
      "Too high\n",
      "You got it! The number was 2\n"
     ]
    }
   ],
   "source": [
    "def main():\n",
    "    while True:\n",
    "        random_number: int = random.randint(0, 100)\n",
    "        guessed_number: int;\n",
    "        try:\n",
    "            guessed_number = int(input('Guess a number between 0 and 100: '))\n",
    "        except ValueError:\n",
    "            guessed_number = int(input('Please enter a valid number: '))\n",
    "\n",
    "        \n",
    "        match(guessed_number, random_number):\n",
    "            case (guessed_number, random_number) if guessed_number < random_number:\n",
    "                print('Too low')\n",
    "            case (guessed_number, random_number) if guessed_number > random_number:\n",
    "                print('Too high')\n",
    "            case _:\n",
    "                break\n",
    "\n",
    "    print(f'You got it! The number was {random_number}')\n",
    "\n",
    "\n",
    "\n",
    "if __name__ == '__main__':\n",
    "    main()"
   ]
  },
  {
   "cell_type": "markdown",
   "metadata": {},
   "source": [
    "# Problem Statement\n",
    "Write a program to print terms in the Fibonacci sequence up to a maximum value.\n",
    "\n",
    "In the 13th century, the Italian mathematician Leonardo Fibonacci, as a way to explain the geometric growth of a population of rabbits, devised a mathematical sequence that now bears his name. The first two terms in this sequence, Fib(0) and Fib(1), are 0 and 1, and every subsequent term is the sum of the preceding two. Thus, the first several terms in the Fibonacci sequence look like this:\n",
    "\n",
    "Fib(0) = 0 Fib(1) = 1 Fib(2) = 1 = 0 + 1 Fib(3) = 2 = 1 + 1 Fib(4) = 3 = 1 + 2 Fib(5) = 5 = 2 + 3\n",
    "\n",
    "Write a program that displays the terms in the Fibonacci sequence, starting with Fib(0) and continuing as long as the terms are less than 10,000 (you should store this value as a constant!). Thus, your program should produce the following sample run:\n",
    "\n",
    "0 1 1 2 3 5 8 13 21 34 55 89 144 233 377 610 987 1597 2584 4181 6765\n",
    "\n",
    "Starter Code"
   ]
  },
  {
   "cell_type": "code",
   "execution_count": 8,
   "metadata": {},
   "outputs": [
    {
     "name": "stdout",
     "output_type": "stream",
     "text": [
      "[0, 1, 1, 2, 3, 5, 8, 13, 21, 34, 55, 89, 144, 233, 377, 610, 987, 1597, 2584, 4181, 6765, 10946, 17711, 28657, 46368, 75025, 121393, 196418, 317811, 514229, 832040, 1346269, 2178309, 3524578, 5702887, 9227465, 14930352, 24157817, 39088169, 63245986, 102334155, 165580141, 267914296, 433494437, 701408733, 1134903170, 1836311903, 2971215073, 4807526976, 7778742049, 12586269025, 20365011074, 32951280099, 53316291173, 86267571272, 139583862445, 225851433717, 365435296162, 591286729879, 956722026041, 1548008755920, 2504730781961, 4052739537881, 6557470319842, 10610209857723, 17167680177565, 27777890035288, 44945570212853, 72723460248141, 117669030460994, 190392490709135, 308061521170129, 498454011879264, 806515533049393, 1304969544928657, 2111485077978050, 3416454622906707, 5527939700884757, 8944394323791464, 14472334024676221, 23416728348467685, 37889062373143906, 61305790721611591, 99194853094755497, 160500643816367088, 259695496911122585, 420196140727489673, 679891637638612258, 1100087778366101931, 1779979416004714189, 2880067194370816120, 4660046610375530309, 7540113804746346429, 12200160415121876738, 19740274219868223167, 31940434634990099905, 51680708854858323072, 83621143489848422977, 135301852344706746049, 218922995834555169026]\n"
     ]
    }
   ],
   "source": [
    "MAX_LENGTH: int = 10000;\n",
    "\n",
    "\n",
    "def main():\n",
    "    def generate_fibonacci_sequence(length: int) -> list[int]:\n",
    "        sequence: list[int] = [0, 1]\n",
    "        for i in range(2, length):\n",
    "            sequence.append(sequence[i - 1] + sequence[i - 2])\n",
    "        \n",
    "        print(sequence)\n",
    "        return sequence\n",
    "\n",
    "    generate_fibonacci_sequence(100)\n",
    "\n",
    "\n",
    "if __name__ == '__main__':\n",
    "    main()\n",
    "\n"
   ]
  },
  {
   "cell_type": "markdown",
   "metadata": {},
   "source": [
    "Problem Statement\n",
    "Write a program that prints the first 20 even numbers. There are several correct approaches, but they all use a loop of some sort. Do no write twenty print statements\n",
    "\n",
    "The first even number is 0:\n",
    "\n",
    "0 2 4 6 8 10 12 14 16 18 20 22 24 26 28 30 32 34 36 38"
   ]
  },
  {
   "cell_type": "code",
   "execution_count": 10,
   "metadata": {},
   "outputs": [
    {
     "name": "stdout",
     "output_type": "stream",
     "text": [
      "0\n",
      "2\n",
      "4\n",
      "6\n",
      "8\n",
      "10\n",
      "12\n",
      "14\n",
      "16\n",
      "18\n"
     ]
    }
   ],
   "source": [
    "def main():\n",
    "    def print_even_nums(length = 20) -> None:\n",
    "        for i in range(0, length):\n",
    "            if (i % 2 == 0): print(i)\n",
    "\n",
    "    print_even_nums()\n",
    "\n",
    "\n",
    "if __name__ == '__main__':\n",
    "    main()"
   ]
  },
  {
   "cell_type": "code",
   "execution_count": null,
   "metadata": {},
   "outputs": [],
   "source": []
  }
 ],
 "metadata": {
  "kernelspec": {
   "display_name": "python12",
   "language": "python",
   "name": "python3"
  },
  "language_info": {
   "codemirror_mode": {
    "name": "ipython",
    "version": 3
   },
   "file_extension": ".py",
   "mimetype": "text/x-python",
   "name": "python",
   "nbconvert_exporter": "python",
   "pygments_lexer": "ipython3",
   "version": "3.12.0"
  }
 },
 "nbformat": 4,
 "nbformat_minor": 2
}
