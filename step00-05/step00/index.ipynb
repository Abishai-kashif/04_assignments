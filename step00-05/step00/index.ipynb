{
 "cells": [
  {
   "cell_type": "markdown",
   "metadata": {},
   "source": [
    "# 1. Add two Numbers"
   ]
  },
  {
   "cell_type": "code",
   "execution_count": 7,
   "metadata": {},
   "outputs": [
    {
     "name": "stdout",
     "output_type": "stream",
     "text": [
      "This program adds two numbers.\n",
      "The total is 11.\n"
     ]
    }
   ],
   "source": [
    "\"\"\"\n",
    "Program: add2numbers\n",
    "--------------------\n",
    "Another python program to get some practice with\n",
    "variables.  This program asks the user for two\n",
    "integers and prints their sum.\n",
    "\"\"\"\n",
    "\n",
    "\n",
    "def main():\n",
    "    print(\"This program adds two numbers.\")\n",
    "    num1 : str = input(\"Enter first number: \")\n",
    "    num2  : str = input(\"Enter second number: \")\n",
    "\n",
    "    total : int = num1 + num2\n",
    "    print(\"The total is \" + str(total) + \".\")\n",
    "\n",
    "\n",
    "# This provided line is required at the end of\n",
    "# Python file to call the main() function.\n",
    "if __name__ == '__main__':\n",
    "    main()"
   ]
  },
  {
   "cell_type": "markdown",
   "metadata": {},
   "source": [
    "# 2. Agreement Bot"
   ]
  },
  {
   "cell_type": "code",
   "execution_count": 8,
   "metadata": {},
   "outputs": [
    {
     "name": "stdout",
     "output_type": "stream",
     "text": [
      "What is your favorite animal?\n",
      "My favorite animal is also a!\n"
     ]
    }
   ],
   "source": [
    "\"\"\"\n",
    "Program: favorite_animal\n",
    "--------------------\n",
    "A program which asks the user what their favorite\n",
    "animal is, and then always responds with \"My\n",
    "favorite animal is also ___!\" (the blank should\n",
    "be filled in with the user-inputted animal, of\n",
    "course).\n",
    "\"\"\"\n",
    "\n",
    "def main():\n",
    "    print(\"What is your favorite animal?\")\n",
    "    animal = input(\"My favorite animal is \")\n",
    "\n",
    "    print(\"My favorite animal is also \" + animal + \"!\")\n",
    "\n",
    "if __name__ == '__main__':\n",
    "    main()"
   ]
  },
  {
   "cell_type": "markdown",
   "metadata": {},
   "source": [
    "# 3. Fahrenheit to Celsius"
   ]
  },
  {
   "cell_type": "code",
   "execution_count": 9,
   "metadata": {},
   "outputs": [
    {
     "name": "stdout",
     "output_type": "stream",
     "text": [
      "This program will convert a temperature from Fahrenheit to Celsius.\n",
      "Temperature: 3.0F = -16.11111111111111C\n"
     ]
    }
   ],
   "source": [
    "def main():\n",
    "    print(\"This program will convert a temperature from Fahrenheit to Celsius.\")\n",
    "    fahrenheit = float(input(\"Enter the temperature in Fahrenheit: \"))\n",
    "\n",
    "    celsius = (fahrenheit - 32) * 5.0/9.0\n",
    "\n",
    "    print(f'Temperature: {fahrenheit}F = {celsius}C')\n",
    "\n",
    "\n",
    "if __name__ == '__main__':\n",
    "    main()"
   ]
  },
  {
   "cell_type": "markdown",
   "metadata": {},
   "source": [
    "# 4 How old are They"
   ]
  },
  {
   "cell_type": "code",
   "execution_count": 10,
   "metadata": {},
   "outputs": [
    {
     "name": "stdout",
     "output_type": "stream",
     "text": [
      "Anton is 21\n",
      "Beth is 27\n",
      "Chen is 47\n",
      "Drew is 68\n",
      "Ethan is 47\n"
     ]
    }
   ],
   "source": [
    "def main():\n",
    "    anton: int = 21\n",
    "    beth: int = anton + 6\n",
    "    chen: int = beth + 20\n",
    "    drew: int = chen + anton\n",
    "    ethan: int = chen\n",
    "\n",
    "       # Print out all of the ages!\n",
    "    print(\"Anton is \" + str(anton))\n",
    "    print(\"Beth is \" + str(beth))\n",
    "    print(\"Chen is \" + str(chen))\n",
    "    print(\"Drew is \" + str(drew))\n",
    "    print(\"Ethan is \" + str(ethan))\n",
    "\n",
    "\n",
    "# This provided line is required at the end of\n",
    "# Python file to call the main() function.\n",
    "if __name__ == '__main__':\n",
    "    main()"
   ]
  },
  {
   "cell_type": "markdown",
   "metadata": {},
   "source": [
    "# 5 Triangle Perimeter."
   ]
  },
  {
   "cell_type": "code",
   "execution_count": 11,
   "metadata": {},
   "outputs": [
    {
     "name": "stdout",
     "output_type": "stream",
     "text": [
      "The perimeter of the triangle is 6.0\n"
     ]
    }
   ],
   "source": [
    "def main():\n",
    "    # Get the 3 side lengths of the triangle\n",
    "    side1: float = float(input(\"What is the length of side 1? \"))\n",
    "    side2: float = float(input(\"What is the length of side 2? \"))\n",
    "    side3: float = float(input(\"What is the length of side 3? \"))\n",
    "\n",
    "    # Print out the perimeter (sum of the sides) of the triangle, make sure to cast it to a str when concatenating!\n",
    "    print(\"The perimeter of the triangle is \" + str(side1 + side2 + side3))\n",
    "\n",
    "\n",
    "# There is no need to edit code beyond this point\n",
    "\n",
    "if __name__ == '__main__':\n",
    "    main()"
   ]
  },
  {
   "cell_type": "markdown",
   "metadata": {},
   "source": [
    "# 6 Square Number."
   ]
  },
  {
   "cell_type": "code",
   "execution_count": 12,
   "metadata": {},
   "outputs": [
    {
     "name": "stdout",
     "output_type": "stream",
     "text": [
      "The square of 2 is 4\n"
     ]
    }
   ],
   "source": [
    "def main():\n",
    "    num: int = int(input(\"Type a number to see its square: \"))\n",
    "\n",
    "    print(f\"The square of {num} is {num * num}\")\n",
    "\n",
    "\n",
    "# There is no need to edit code beyond this point\n",
    "\n",
    "if __name__ == '__main__':\n",
    "    main()"
   ]
  }
 ],
 "metadata": {
  "kernelspec": {
   "display_name": "python12",
   "language": "python",
   "name": "python3"
  },
  "language_info": {
   "codemirror_mode": {
    "name": "ipython",
    "version": 3
   },
   "file_extension": ".py",
   "mimetype": "text/x-python",
   "name": "python",
   "nbconvert_exporter": "python",
   "pygments_lexer": "ipython3",
   "version": "3.12.0"
  }
 },
 "nbformat": 4,
 "nbformat_minor": 2
}
