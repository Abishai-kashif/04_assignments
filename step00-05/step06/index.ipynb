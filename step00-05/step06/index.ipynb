{
 "cells": [
  {
   "cell_type": "markdown",
   "id": "0113fc76",
   "metadata": {},
   "source": [
    "# Problem Statement\n",
    "Write a function that takes two numbers and finds the average between the two."
   ]
  },
  {
   "cell_type": "code",
   "execution_count": null,
   "id": "912e7a51",
   "metadata": {},
   "outputs": [
    {
     "name": "stdout",
     "output_type": "stream",
     "text": [
      "avg_1 5.0\n",
      "avg_2 9.0\n",
      "final 7.0\n"
     ]
    }
   ],
   "source": [
    "def average(a: float, b: float):\n",
    "    \"\"\"\n",
    "    Returns the number which is half way between a and b\n",
    "    \"\"\"\n",
    "    sum = a + b\n",
    "    return sum / 2\n",
    "\n",
    "def main():\n",
    "    avg_1 = average(0, 10)\n",
    "    avg_2 = average(8, 10)\n",
    "    \n",
    "    final = average(avg_1, avg_2)\n",
    "    print(\"avg_1\", avg_1)\n",
    "    print(\"avg_2\", avg_2)\n",
    "    print(\"final\", final)\n",
    "    \n",
    "\n",
    "# There is no need to edit code beyond this point\n",
    "\n",
    "if __name__ == '__main__':\n",
    "    main()"
   ]
  },
  {
   "cell_type": "markdown",
   "id": "fd6d4186",
   "metadata": {},
   "source": [
    "# Problem Statement\n",
    "Fill out the chaotic_counting() function, which prints the numbers from 1 to 10, but with a catch. We've written a done() function which returns True with likelihood DONE_LIKELIHOOD -- at each number, before printing the number, you should call done() and check if it returns True or not. If done() returns True, we're done counting, and you should use a return statement to end the chaotic_counting() function execution and resume execution of main(), which will print \"I'm done.\". We've written main() for you -- check it out! Notice that we'll only print \"I'm done\" from main() once chaotic_counting() is done with its execution.\n",
    "\n",
    "Here's a sample run of this program:\n",
    "\n",
    "\n",
    "I'm going to count until 10 or until I feel like stopping, whichever comes first. 1 2 3 I'm done."
   ]
  },
  {
   "cell_type": "code",
   "execution_count": 28,
   "id": "34883771",
   "metadata": {},
   "outputs": [
    {
     "name": "stdout",
     "output_type": "stream",
     "text": [
      "I'm going to count until 10 or until I feel like stopping, whichever comes first.\n",
      "1\n",
      "2\n",
      "3\n",
      "I'm done\n"
     ]
    }
   ],
   "source": [
    "import random\n",
    "\n",
    "def chaotic_counting():\n",
    "    for i in range(10):\n",
    "        curr_num = i + 1\n",
    "        if done(i):\n",
    "            return # this ends the function execution, so we'll get back to the main() function!\n",
    "        print(curr_num)\n",
    "\n",
    "# There is no need to edit code beyond this point\n",
    "\n",
    "def done(n: int):\n",
    "    \"\"\" Returns True with a probability of DONE_LIKELIHOOD \"\"\"\n",
    "    if random.randint(1, 10) < n:\n",
    "        return True\n",
    "    return False\n",
    "\n",
    "def main():\n",
    "    print(\"I'm going to count until 10 or until I feel like stopping, whichever comes first.\")\n",
    "    chaotic_counting()\n",
    "    print(\"I'm done\")\n",
    "\n",
    "if __name__ == \"__main__\":\n",
    "    main()"
   ]
  },
  {
   "cell_type": "markdown",
   "id": "ea89d6ae",
   "metadata": {},
   "source": [
    "# Problem Statement\n",
    "Fill out the function count_even(lst) which\n",
    "\n",
    "first populates a list by prompting the user for integers until they press enter (please use the prompt \"Enter an integer or press enter to stop: \"),\n",
    "\n",
    "and then prints the number of even numbers in the list.\n",
    "\n",
    "If you'd prefer to focus on the second task only, scroll down for our implementation of the first task!"
   ]
  },
  {
   "cell_type": "code",
   "execution_count": 34,
   "id": "bda71023",
   "metadata": {},
   "outputs": [
    {
     "name": "stdout",
     "output_type": "stream",
     "text": [
      "Please enter a valid number...\n",
      "Please enter a valid number...\n",
      "2\n"
     ]
    }
   ],
   "source": [
    "def count_even(lst: list[int]) -> int:\n",
    "    return len([ n for n in lst if n % 2 == 0 ])\n",
    "\n",
    "def main():\n",
    "    lst: list[int] = [];\n",
    "\n",
    "    while True:\n",
    "        user_feedback = input(\"Enter an integer or press enter to stop: \");\n",
    "\n",
    "        if not user_feedback:\n",
    "            break\n",
    "\n",
    "        try:\n",
    "            integer: int = int(user_feedback);\n",
    "            lst.append(integer)\n",
    "        except (TypeError, ValueError):\n",
    "            print(\"Please enter a valid number...\")\n",
    "\n",
    "    count: int = count_even(lst);\n",
    "    print(count)\n",
    "\n",
    "\n",
    "\n",
    "\n",
    "\n",
    "\n",
    "\n",
    "# This provided line is required at the end of\n",
    "# Python file to call the main() function.\n",
    "if __name__ == '__main__':\n",
    "    main()"
   ]
  },
  {
   "cell_type": "markdown",
   "id": "7a4feb54",
   "metadata": {},
   "source": [
    "# Problem Statement\n",
    "Fill out the double(num) function to return the result of multiplying num by 2. We've written a main() function for you which asks the user for a number, calls your code for double(num) , and prints the result.\n",
    "\n",
    "Here's a sample run of the program (user input in bold italics):\n",
    "\n",
    "Enter a number: 2 Double that is 4"
   ]
  },
  {
   "cell_type": "code",
   "execution_count": 35,
   "id": "75c7c62a",
   "metadata": {},
   "outputs": [
    {
     "name": "stdout",
     "output_type": "stream",
     "text": [
      "Double that is 4\n"
     ]
    }
   ],
   "source": [
    "def double(num: int):\n",
    "    return num * 2\n",
    "\n",
    "# There is no need to edit code beyond this point\n",
    "\n",
    "def main():\n",
    "    num = int(input(\"Enter a number: \"))\n",
    "    num_times_2 = double(num)\n",
    "    print(\"Double that is\", num_times_2)\n",
    "\n",
    "if __name__ == '__main__':\n",
    "    main()"
   ]
  },
  {
   "cell_type": "markdown",
   "id": "2673cbd5",
   "metadata": {},
   "source": [
    "# Problem Statement\n",
    "Fill out the get_name() function to return your name as a string! We've written a main() function for you which calls your function to retrieve your name and then prints it in a greeting.\n",
    "\n",
    "Here's a sample run of the program where the name we've decided to return is Sophia (the autograder expects the returned name to be Sophia):\n",
    "\n",
    "Howdy Sophia ! 🤠"
   ]
  },
  {
   "cell_type": "code",
   "execution_count": 36,
   "id": "d10862ff",
   "metadata": {},
   "outputs": [
    {
     "name": "stdout",
     "output_type": "stream",
     "text": [
      "Howdy Abishai ! 🤠\n"
     ]
    }
   ],
   "source": [
    "def get_name():\n",
    "    return \"Abishai\"\n",
    "\n",
    "# There is no need to edit code beyond this point\n",
    "\n",
    "def main():\n",
    "    name = get_name() # get_name() will return a string which we store to the 'name' variable here\n",
    "    print(\"Howdy\", name, \"! 🤠\")\n",
    "\n",
    "if __name__ == '__main__':\n",
    "    main()"
   ]
  },
  {
   "cell_type": "markdown",
   "id": "19cb1819",
   "metadata": {},
   "source": [
    "# Problem Statement\n",
    "10 even 11 odd 12 even 13 odd 14 even 15 odd 16 even 17 odd 18 even 19 odd"
   ]
  },
  {
   "cell_type": "code",
   "execution_count": 38,
   "id": "8b5d89cd",
   "metadata": {},
   "outputs": [
    {
     "name": "stdout",
     "output_type": "stream",
     "text": [
      "0 is even\n",
      "1 is odd\n",
      "2 is even\n",
      "3 is odd\n",
      "4 is even\n",
      "5 is odd\n",
      "6 is even\n",
      "7 is odd\n",
      "8 is even\n",
      "9 is odd\n"
     ]
    }
   ],
   "source": [
    "def main():\n",
    "    for i in range(10):\n",
    "        if is_odd(i):\n",
    "            print(f'{i} is odd')\n",
    "        else:\n",
    "            print(f'{i} is even')\n",
    "            \n",
    "def is_odd(value: int):\n",
    "    \"\"\"\n",
    "    Checks to see if a value is odd. If it is, returns true.\n",
    "    \"\"\"\n",
    "    \n",
    "    remainder = value % 2  # 0 if value is divisible by 2, 1 if it isn't\n",
    "    return remainder == 1\n",
    "\n",
    "\n",
    "# There is no need to edit code beyond this point\n",
    "\n",
    "if __name__ == '__main__':\n",
    "    main()"
   ]
  },
  {
   "cell_type": "markdown",
   "id": "d2da3d5c",
   "metadata": {},
   "source": [
    "# Problem Statement\n",
    "Write the helper function print_divisors(num), which takes in a number and prints all of its divisors (all the numbers from 1 to num inclusive that num can be cleanly divided by (there is no remainder to the division). Don't forget to call your function in main()!\n",
    "\n",
    "Here's a sample run (user input is in blue):\n",
    "\n",
    "Enter a number: 12 Here are the divisors of 12 1 2 3 4 6 12"
   ]
  },
  {
   "cell_type": "code",
   "execution_count": 41,
   "id": "2595f7f3",
   "metadata": {},
   "outputs": [
    {
     "name": "stdout",
     "output_type": "stream",
     "text": [
      "Divisors of 7 are:\n",
      "1, 7, "
     ]
    }
   ],
   "source": [
    "def print_divisors(num):\n",
    "    for i in range(1, num + 1):\n",
    "        if num % i == 0:\n",
    "            print(i, end=', ')\n",
    "\n",
    "\n",
    "def main():\n",
    "    num = int(input(\"Enter a number: \"))\n",
    "    print(\"Divisors of\", num, \"are:\")\n",
    "    print_divisors(num)\n",
    "    \n",
    "\n",
    "\n",
    "# This provided line is required at the end of\n",
    "# Python file to call the main() function.\n",
    "if __name__ == '__main__':\n",
    "    main()"
   ]
  },
  {
   "cell_type": "markdown",
   "id": "3ed887bc",
   "metadata": {},
   "source": [
    "# Problem Statement\n",
    "Fill out print_multiple(message, repeats), which takes as parameters a string message to print, and an integer repeats number of times to print message. We've written the main() function for you, which prompts the user for a message and a number of repeats.\n",
    "\n",
    "Here's a sample run of the program (user input is in blue):\n",
    "\n",
    "Please type a message: Hello! Enter a number of times to repeat your message: 6 Hello! Hello! Hello! Hello! Hello! Hello!\n"
   ]
  },
  {
   "cell_type": "code",
   "execution_count": 48,
   "id": "3fad565e",
   "metadata": {},
   "outputs": [
    {
     "name": "stdout",
     "output_type": "stream",
     "text": [
      "hello\n",
      "hello\n"
     ]
    }
   ],
   "source": [
    "def print_multiple(message: str, repeats: int): \n",
    "    for _ in range(repeats): \n",
    "        print(message)\n",
    "\n",
    "\n",
    "def main(): \n",
    "    message = input(\"Please type a message: \") \n",
    "    \n",
    "    repeats = int(input(\"Enter a number of times to repeat your message: \")) \n",
    "    \n",
    "    print_multiple(message, repeats)\n",
    "\n",
    "if __name__ == '__main__':\n",
    "    main()"
   ]
  },
  {
   "cell_type": "markdown",
   "id": "9e5bee9b",
   "metadata": {},
   "source": [
    "# Problem Statement\n",
    "Implement the helper function make_sentence(word, part_of_speech) which will take a string word and an integer part_of_speech as parameters and, depending on the part of speech, place the word into one of three sentence templates (or one from your imagination!):\n",
    "\n",
    "If part_of_speech is 0, we will assume the word is a noun and use the template: \"I am excited to add this ____ to my vast collection of them!\"\n",
    "\n",
    "If part_of_speech is 1, we will assume the word is a verb use the template: \"It's so nice outside today it makes me want to ____!\"\n",
    "\n",
    "If part_of_speech is 2, we will assume the word is an adjective and use the template: \"Looking out my window, the sky is big and ____!\" make_sentence(word, part_of_speech) should not return anything, just print the correct sentence with the word filled in the blank.\n",
    "\n",
    "Here's a sample run of the program (user input is in blue):\n",
    "\n",
    "Please type a noun, verb, or adjective: groovy Is this a noun, verb, or adjective? Type 0 for noun, 1 for verb, 2 for adjective: 2 Looking out my window, the sky is big and groovy!"
   ]
  },
  {
   "cell_type": "code",
   "execution_count": 49,
   "id": "c4846013",
   "metadata": {},
   "outputs": [
    {
     "name": "stdout",
     "output_type": "stream",
     "text": [
      "Is this a noun, verb, or adjective?\n",
      "Looking out my window, the sky is big and blue!\n"
     ]
    }
   ],
   "source": [
    "def make_sentence(word, part_of_speech):\n",
    "    if part_of_speech == 0:\n",
    "        # noun\n",
    "        print(\"I am excited to add this \" + word + \" to my vast collection of them!\")\n",
    "    elif part_of_speech == 1:\n",
    "        # verb\n",
    "        print(\"It's so nice outside today it makes me want to \" + word + \"!\")\n",
    "    elif part_of_speech == 2:\n",
    "        # adjective\n",
    "        print(\"Looking out my window, the sky is big and \" + word + \"!\")\n",
    "    else:\n",
    "        # part_of_speech is invalid (not 0, 1, or 2)\n",
    "        print(\"Part of speech must be 0, 1, or 2! Can't make a sentence.\")\n",
    "\n",
    "# There is no need to edit code beyond this point\n",
    "\n",
    "def main():\n",
    "    word :  str = input(\"Please type a noun, verb, or adjective: \")\n",
    "    print(\"Is this a noun, verb, or adjective?\")\n",
    "    part_of_speech = int(input(\"Type 0 for noun, 1 for verb, 2 for adjective: \"))\n",
    "    make_sentence(word, part_of_speech)\n",
    "\n",
    "if __name__ == '__main__':\n",
    "    main()\n"
   ]
  },
  {
   "cell_type": "markdown",
   "id": "069a2b77",
   "metadata": {},
   "source": [
    "# Problem Statement\n",
    "Write a function called print_ones_digit , which takes as a parameter an integer num and prints its ones digit. The modulo (remainder) operator, %, should be helpful to you here. Call your function from main()!\n",
    "\n",
    "Here's a sample run (user input is in blue):\n",
    "\n",
    "Enter a number: 42 The ones digit is 2"
   ]
  },
  {
   "cell_type": "code",
   "execution_count": 57,
   "id": "88a6c6ad",
   "metadata": {},
   "outputs": [
    {
     "name": "stdout",
     "output_type": "stream",
     "text": [
      "The ones digit is 5\n"
     ]
    }
   ],
   "source": [
    "def print_ones_digit(num): print(\"The ones digit is\", num % 10)\n",
    "\n",
    "def main(): \n",
    "    num = int(input(\"Enter a number: \")) \n",
    "    print_ones_digit(num)\n",
    "\n",
    "if __name__ == '__main__': \n",
    "    main()"
   ]
  }
 ],
 "metadata": {
  "kernelspec": {
   "display_name": "python12",
   "language": "python",
   "name": "python3"
  },
  "language_info": {
   "codemirror_mode": {
    "name": "ipython",
    "version": 3
   },
   "file_extension": ".py",
   "mimetype": "text/x-python",
   "name": "python",
   "nbconvert_exporter": "python",
   "pygments_lexer": "ipython3",
   "version": "3.12.0"
  }
 },
 "nbformat": 4,
 "nbformat_minor": 5
}
