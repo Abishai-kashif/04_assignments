{
 "cells": [
  {
   "cell_type": "markdown",
   "metadata": {},
   "source": [
    "# Problem Statement\n",
    "Write a function that takes a list of numbers and returns the sum of those numbers."
   ]
  },
  {
   "cell_type": "code",
   "execution_count": 11,
   "metadata": {},
   "outputs": [
    {
     "name": "stdout",
     "output_type": "stream",
     "text": [
      "6\n"
     ]
    }
   ],
   "source": [
    "def get_sum(numbers: list[int]) -> int:\n",
    "    return sum(numbers);\n",
    "\n",
    "def main():\n",
    "  total = get_sum([1, 2, 3]);\n",
    "  print(total);\n",
    "\n",
    "\n",
    "# This provided line is required at the end of\n",
    "# Python file to call the main() function.\n",
    "if __name__ == '__main__':\n",
    "    main()"
   ]
  },
  {
   "cell_type": "markdown",
   "metadata": {},
   "source": [
    "# Problem Statement\n",
    "Write a program that doubles each element in a list of numbers. For example, if you start with this list:"
   ]
  },
  {
   "cell_type": "code",
   "execution_count": 4,
   "metadata": {},
   "outputs": [
    {
     "name": "stdout",
     "output_type": "stream",
     "text": [
      "[2, 4, 6, 8]\n"
     ]
    }
   ],
   "source": [
    "def get_doubled_list(numbers: list[int]) -> list[int]:\n",
    "    return [n*2 for n in numbers];\n",
    "\n",
    "def main():\n",
    "    numbers = [1, 2, 3, 4]\n",
    "\n",
    "\n",
    "    # using list comprehension\n",
    "\n",
    "    doubled_list = get_doubled_list(numbers);\n",
    "    print(doubled_list);\n",
    "\n",
    "\n",
    "# This provided line is required at the end of\n",
    "# Python file to call the main() function.\n",
    "if __name__ == '__main__':\n",
    "    main()"
   ]
  },
  {
   "cell_type": "markdown",
   "metadata": {},
   "source": [
    "# Problem Statement\n",
    "Implement an 'eraser' on a canvas.\n",
    "\n",
    "The canvas consists of a grid of blue 'cells' which are drawn as rectangles on the screen. We then create an eraser rectangle which, when dragged around the canvas, sets all of the rectangles it is in contact with to white."
   ]
  },
  {
   "cell_type": "code",
   "execution_count": null,
   "metadata": {},
   "outputs": [],
   "source": [
    "from graphics import Canvas\n",
    "import time\n",
    "    \n",
    "CANVAS_WIDTH : int = 400\n",
    "CANVAS_HEIGHT : int = 400\n",
    "\n",
    "CELL_SIZE : int = 40\n",
    "ERASER_SIZE : int = 20\n",
    "\n",
    "def erase_objects(canvas, eraser):\n",
    "    \"\"\"Erase objects in contact with the eraser\"\"\"\n",
    "    # Get mouse info to help us know which cells to delete\n",
    "    mouse_x = canvas.get_mouse_x()\n",
    "    mouse_y = canvas.get_mouse_y()\n",
    "    \n",
    "    # Calculate where our eraser is\n",
    "    left_x = mouse_x\n",
    "    top_y = mouse_y\n",
    "    right_x = left_x + ERASER_SIZE\n",
    "    bottom_y = top_y + ERASER_SIZE\n",
    "    \n",
    "    # Find things that overlap with our eraser\n",
    "    overlapping_objects = canvas.find_overlapping(left_x, top_y, right_x, bottom_y)\n",
    "    \n",
    "    # For everything that overlaps with our eraser (that isn't our eraser), change\n",
    "    # its color to white\n",
    "    for overlapping_object in overlapping_objects:\n",
    "        if overlapping_object != eraser:\n",
    "            canvas.set_color(overlapping_object, 'white')\n",
    "\n",
    "# There is no need to edit code beyond this point\n",
    "\n",
    "def main():\n",
    "    canvas = Canvas(CANVAS_WIDTH, CANVAS_HEIGHT)\n",
    "    \n",
    "    num_rows = CANVAS_HEIGHT // CELL_SIZE  # Figure out how many rows of cells we need\n",
    "    num_cols = CANVAS_WIDTH // CELL_SIZE   # Figure out how many columns of cells we need\n",
    "    \n",
    "    # Make a grid of squares based on the number of rows and columns.\n",
    "    # The rows and columns along with our cell size help determine where\n",
    "    # each individual cell belongs in our grid!\n",
    "    for row in range(num_rows):\n",
    "        for col in range(num_cols):\n",
    "            left_x = col * CELL_SIZE\n",
    "            top_y = row * CELL_SIZE\n",
    "            right_x = left_x + CELL_SIZE   # The right coordinate of the cell is CELL_SIZE pixels away from the left\n",
    "            bottom_y = top_y + CELL_SIZE   # The bottom coordinate of the cell is CELL_SIZE pixels away from the top\n",
    "            \n",
    "            # Create a single cell in the grid\n",
    "            cell = canvas.create_rectangle(left_x, top_y, right_x, bottom_y, 'blue')\n",
    "            \n",
    "            \n",
    "    canvas.wait_for_click()  # Wait for the user to click before creating the eraser\n",
    "    \n",
    "    last_click_x, last_click_y = canvas.get_last_click()  # Get the starting location for the eraser\n",
    "    \n",
    "    # Create our eraser\n",
    "    eraser = canvas.create_rectangle(\n",
    "        last_click_x, \n",
    "        last_click_y, \n",
    "        last_click_x + ERASER_SIZE, \n",
    "        last_click_y + ERASER_SIZE, \n",
    "        'pink'\n",
    "    )\n",
    "    \n",
    "    # Move the eraser, and erase what it's touching\n",
    "    while True:\n",
    "        # Get where our mouse is and move the eraser to there\n",
    "        mouse_x = canvas.get_mouse_x()\n",
    "        mouse_y = canvas.get_mouse_y()\n",
    "        canvas.moveto(eraser, mouse_x, mouse_y)\n",
    "        \n",
    "        # Erase anything touching the eraser\n",
    "        erase_objects(canvas, eraser) \n",
    "        \n",
    "        time.sleep(0.05)\n",
    "\n",
    "\n",
    "if __name__ == '__main__':\n",
    "    main()"
   ]
  },
  {
   "cell_type": "markdown",
   "metadata": {},
   "source": [
    "# Problem Statement\n",
    "In the information flow lesson, we discussed using a variable storing a number as an example of scope. We saw that changes we made to the number inside a function did not stay unless we returned it. This is true for what we call immutable data types which include things like numbers and strings.\n",
    "\n",
    "However, there are also mutable data types where changes stay even if we don't return anything. Some examples of mutable data types are lists and dictionaries. This means that you should be mindful when modifying lists and dictionaries within helper functions since their changes stay whether or not you return them.\n",
    "\n",
    "To see this in action, fill out the add_three_copies(...) function which takes a list and some data and then adds three copies of the data to the list. Don't return anything and see what happens! Compare this process to the x = change(x) example and note the differences.\n",
    "\n",
    "Here is an example run of this program (user input in bold italics):\n",
    "\n",
    "Enter a message to copy: Hello world!\n",
    "\n",
    "List before: []\n",
    "\n",
    "List after: ['Hello world!', 'Hello world!', 'Hello world!']\n",
    "\n",
    "(Note. The concept of immutable/mutable data types is called mutability. Be careful because different programming languages have different rules regarding mutability!)"
   ]
  },
  {
   "cell_type": "code",
   "execution_count": 13,
   "metadata": {},
   "outputs": [
    {
     "name": "stdout",
     "output_type": "stream",
     "text": [
      "List before: []\n",
      "List after: [\"You're the best\", \"You're the best\", \"You're the best\"]\n"
     ]
    }
   ],
   "source": [
    "from typing import TypeVar\n",
    "\n",
    "\n",
    "T = TypeVar('T')\n",
    "\n",
    "def add_three_copies(arr: list[T], data: T) -> None:\n",
    "    NO_OF_COPIES = 3\n",
    "\n",
    "    for _ in range(NO_OF_COPIES):\n",
    "        arr.append(data)\n",
    "\n",
    "\n",
    "def main():\n",
    "    message = input(\"Enter a message to copy: \")\n",
    "    my_list = []\n",
    "    print(\"List before:\", my_list)\n",
    "    add_three_copies(my_list, message)\n",
    "    print(\"List after:\", my_list)\n",
    "\n",
    "if __name__ == \"__main__\":\n",
    "    main()\n"
   ]
  },
  {
   "cell_type": "markdown",
   "metadata": {},
   "source": [
    "# Problem Statement\n",
    "Fill out the function get_first_element(lst) which takes in a list lst as a parameter and prints the first element in the list. The list is guaranteed to be non-empty. We've written some code for you which prompts the user to input the list one element at a time."
   ]
  },
  {
   "cell_type": "code",
   "execution_count": null,
   "metadata": {},
   "outputs": [
    {
     "name": "stdout",
     "output_type": "stream",
     "text": [
      "some element\n"
     ]
    }
   ],
   "source": [
    "from typing import TypeVar\n",
    "\n",
    "T = TypeVar('T')\n",
    "\n",
    "def get_first_element(lst: list[T]) -> T:\n",
    "    \"\"\"\n",
    "    Prints the first element of a provided list.\n",
    "    \"\"\"\n",
    "\n",
    "    return lst[0]\n",
    "\n",
    "# There is no need to edit code beyond this point\n",
    "\n",
    "def get_lst():\n",
    "    \"\"\"\n",
    "    Prompts the user to enter one element of the list at a time and returns the resulting list.\n",
    "    \"\"\"\n",
    "    lst = []\n",
    "    elem: str = input(\"Please enter an element of the list or press enter to stop. \")\n",
    "\n",
    "    while elem != \"\":\n",
    "        lst.append(elem)\n",
    "        elem = input(\"Please enter an element of the list or press enter to stop. \")\n",
    "    else:\n",
    "        lst.append(\"some element\") # guarantee that the list is not empty\n",
    "\n",
    "    return lst\n",
    "\n",
    "def main():\n",
    "    lst = get_lst()\n",
    "    print(get_first_element(lst))\n",
    "\n",
    "\n",
    "if __name__ == '__main__':\n",
    "    main()\n"
   ]
  },
  {
   "cell_type": "markdown",
   "metadata": {},
   "source": [
    "# Problem Statement\n",
    "Fill out the function get_last_element(lst) which takes in a list lst as a parameter and prints the last element in the list. The list is guaranteed to be non-empty, but there are no guarantees on its length."
   ]
  },
  {
   "cell_type": "code",
   "execution_count": 18,
   "metadata": {},
   "outputs": [
    {
     "name": "stdout",
     "output_type": "stream",
     "text": [
      "3\n"
     ]
    }
   ],
   "source": [
    "from typing import TypeVar\n",
    "\n",
    "T = TypeVar('T')\n",
    "\n",
    "def get_last_element(lst: list[T]) -> T:\n",
    "    \"\"\"Returns the last element of a non-empty list.\"\"\"\n",
    "    return lst[-1]\n",
    "\n",
    "def main():\n",
    "    last_element = get_last_element([1, 2, 3])\n",
    "    print(last_element)\n",
    "# This provided line is required at the end of\n",
    "# Python file to call the main() function.\n",
    "if __name__ == '__main__':\n",
    "    main()"
   ]
  },
  {
   "cell_type": "markdown",
   "metadata": {},
   "source": [
    "# Problem Statement\n",
    "Write a program which continuously asks the user to enter values which are added one by one into a list. When the user presses enter without typing anything, print the list.\n",
    "\n",
    "Here's a sample run (user input is in blue):\n",
    "\n",
    "Enter a value: 1 Enter a value: 2 Enter a value: 3 Enter a value: Here's the list: ['1', '2', '3']"
   ]
  },
  {
   "cell_type": "code",
   "execution_count": 19,
   "metadata": {},
   "outputs": [
    {
     "name": "stdout",
     "output_type": "stream",
     "text": [
      "Here's the list: ['h', 'k']\n"
     ]
    }
   ],
   "source": [
    "def main():\n",
    "    lst = []  # Make an empty list to store things in\n",
    "\n",
    "    val = input(\"Enter a value: \")  # Get an initial value\n",
    "    while val:  # While the user input isn't an empty value\n",
    "        lst.append(val) # Add val to list\n",
    "        val = input(\"Enter a value: \")  # Get the next value to add\n",
    "\n",
    "    print(\"Here's the list:\", lst)\n",
    "\n",
    "\n",
    "# There is no need to edit code beyond this point\n",
    "\n",
    "if __name__ == '__main__':\n",
    "    main()"
   ]
  },
  {
   "cell_type": "markdown",
   "metadata": {},
   "source": [
    "# Problem Statement\n",
    "Fill out the function shorten(lst) which removes elements from the end of lst, which is a list, and prints each item it removes until lst is MAX_LENGTH items long. If lst is already shorter than MAX_LENGTH you should leave it unchanged. We've written a main() function for you which gets a list and passes it into your function once you run the program. For the autograder to pass you will need MAX_LENGTH to be 3, but feel free to change it around to test your program."
   ]
  },
  {
   "cell_type": "code",
   "execution_count": 21,
   "metadata": {},
   "outputs": [
    {
     "name": "stdout",
     "output_type": "stream",
     "text": [
      "Removing  f\n",
      "Removing  e\n",
      "Removing  d\n",
      "['a', 'b', 'c']\n"
     ]
    }
   ],
   "source": [
    "def shorten(lst: list) -> None:\n",
    "    MAX_LENGTH = 3\n",
    "\n",
    "    while len(lst) > MAX_LENGTH:\n",
    "        print(\"Removing \", lst.pop())\n",
    "\n",
    "\n",
    "def get_lst():\n",
    "    \"\"\"\n",
    "    Prompts the user to enter one element of the list at a time and returns the resulting list.\n",
    "    \"\"\"\n",
    "    lst = []\n",
    "    elem = input(\"Please enter an element of the list or press enter to stop. \")\n",
    "    while elem != \"\":\n",
    "        lst.append(elem)\n",
    "        elem = input(\"Please enter an element of the list or press enter to stop. \")\n",
    "    return lst\n",
    "\n",
    "def main():\n",
    "    lst = get_lst()\n",
    "    shorten(lst)\n",
    "    print(lst)\n",
    "\n",
    "\n",
    "if __name__ == '__main__':\n",
    "    main()"
   ]
  },
  {
   "cell_type": "code",
   "execution_count": 22,
   "metadata": {},
   "outputs": [
    {
     "name": "stdout",
     "output_type": "stream",
     "text": [
      "0\n",
      "2\n",
      "4\n",
      "6\n",
      "8\n",
      "10\n",
      "12\n",
      "14\n",
      "16\n",
      "18\n",
      "20\n",
      "22\n",
      "24\n",
      "26\n",
      "28\n",
      "30\n",
      "32\n",
      "34\n",
      "36\n",
      "38\n"
     ]
    }
   ],
   "source": [
    "def main():\n",
    "    # This for-loop start at 0 and counts up to 19 (for a total of 20 numbers)\n",
    "    for i in range(20):\n",
    "        print(i * 2)  # Use the 'i' value inside the for-loop\n",
    "   \n",
    "# Call the main function when \"run\", no need to edit anything below!\n",
    "if __name__ == \"__main__\":\n",
    "    main()"
   ]
  },
  {
   "cell_type": "markdown",
   "metadata": {},
   "source": [
    "# Problem Statement\n",
    "Write a program which asks a user for their age and lets them know if they can or can't vote in the following three fictional countries.\n",
    "\n",
    "Around the world, different countries have different voting ages. In the fictional countries of Peturksbouipo, Stanlau, and Mayengua, the voting ages are very different:\n",
    "\n",
    "the voting age in Peturksbouipo is 16 (in real life, this is the voting age in, for example, Scotland, Ethiopia, and Austria)\n",
    "\n",
    "the voting age in Stanlau is 25 (in real life this is the voting age in the United Arab Emirates)\n",
    "\n",
    "the voting age in Mayengua is 48 (in real life, as far as we can tell, this isn't the voting age anywhere)\n",
    "\n",
    "Your code should prompt the for their age and print whether or not they can vote in Peturksbouipo, Stanlau, or Mayengua.\n",
    "\n",
    "Here's a sample run of the program (user input is in blue):\n",
    "\n",
    "How old are you? 20 You can vote in Peturksbouipo where the voting age is 16. You cannot vote in Stanlau where the voting age is 25. You cannot vote in Mayengua where the voting age is 48."
   ]
  },
  {
   "cell_type": "code",
   "execution_count": 25,
   "metadata": {},
   "outputs": [
    {
     "name": "stdout",
     "output_type": "stream",
     "text": [
      "You cannot vote in Peturksbouipo where the voting age is 16.\n",
      "You cannot vote in Stanlau where the voting age is 25.\n",
      "You cannot vote in Mayengua where the voting age is 48.\n"
     ]
    }
   ],
   "source": [
    "PETURKSBOUIPO_AGE : int = 16\n",
    "STANLAU_AGE : int = 25\n",
    "MAYENGUA_AGE : int = 48\n",
    "\n",
    "def main():\n",
    "    # Get the user's age\n",
    "    user_age = int(input(\"How old are you? \"))\n",
    "\n",
    "    # Check if the user can vote in Peturksbouipo\n",
    "    if user_age >= PETURKSBOUIPO_AGE:\n",
    "        print(\"You can vote in Peturksbouipo where the voting age is \" + str(PETURKSBOUIPO_AGE) + \".\")\n",
    "    else:\n",
    "        print(\"You cannot vote in Peturksbouipo where the voting age is \" + str(PETURKSBOUIPO_AGE) + \".\")\n",
    "    \n",
    "    # Check if the user can vote in Stanlau\n",
    "    if user_age >= STANLAU_AGE:\n",
    "        print(\"You can vote in Stanlau where the voting age is \" + str(STANLAU_AGE) + \".\")\n",
    "    else:\n",
    "        print(\"You cannot vote in Stanlau where the voting age is \" + str(STANLAU_AGE) + \".\")\n",
    "    \n",
    "    # Check if user can vote in Mayengua\n",
    "    if user_age >= MAYENGUA_AGE:\n",
    "        print(\"You can vote in Mayengua where the voting age is \" + str(MAYENGUA_AGE) + \".\")\n",
    "    else:\n",
    "        print(\"You cannot vote in Mayengua where the voting age is \" + str(MAYENGUA_AGE) + \".\")\n",
    "\n",
    "\n",
    "# There is no need to edit code beyond this point\n",
    "\n",
    "if __name__ == '__main__':\n",
    "    main()"
   ]
  },
  {
   "cell_type": "markdown",
   "metadata": {},
   "source": [
    "# Problem Statement\n",
    "Write a program that reads a year from the user and tells whether a given year is a leap year or not.\n",
    "\n",
    "A leap year (also known as an intercalary year or bissextile year) is a calendar year that contains an additional day (or, in the case of a lunisolar calendar, a month) added to keep the calendar year synchronized with the astronomical year or seasonal year. In the Gregorian calendar, each leap year has 366 days instead of 365, by extending February to 29 days rather than the common 28.\n",
    "\n",
    "In the Gregorian calendar, three criteria must be checked to identify leap years:\n",
    "\n",
    "The given year must be evenly divisible by 4;\n",
    "If the year can also be evenly divided by 100, it is NOT a leap year; unless:\n",
    "The year is also evenly divisible by 400. Then it is a leap year.\n",
    "Your code should use the above criteria to check for a leap year and then print either \"That's a leap year!\" or \"That's not a leap year.\""
   ]
  },
  {
   "cell_type": "code",
   "execution_count": 27,
   "metadata": {},
   "outputs": [
    {
     "name": "stdout",
     "output_type": "stream",
     "text": [
      "That's not a leap year.\n"
     ]
    }
   ],
   "source": [
    "def main():\n",
    "    # Get the year to check from the user\n",
    "    year = int(input('Please input a year: '))\n",
    "\n",
    "    if year % 4 == 0:  # Checking whether the provided year is evenly divisibly by 4\n",
    "        if year % 100 == 0:  # Checking whether the provided year is evenly divisibly by 100\n",
    "            if year % 400 == 0:  # Checking whether the provided year is evenly divisibly by 400\n",
    "                print(\"That's a leap year!\")\n",
    "            else:  # (Not divisible by 400)\n",
    "                print(\"That's not a leap year.\")\n",
    "        else:  # (Not divisible by 100)\n",
    "            print(\"That's a leap year!\")\n",
    "    else:  # (Not divisible by 4)\n",
    "        print(\"That's not a leap year.\")\n",
    "\n",
    "\n",
    "# There is no need to edit code beyond this point\n",
    "\n",
    "if __name__ == '__main__':\n",
    "    main()"
   ]
  }
 ],
 "metadata": {
  "kernelspec": {
   "display_name": "python12",
   "language": "python",
   "name": "python3"
  },
  "language_info": {
   "codemirror_mode": {
    "name": "ipython",
    "version": 3
   },
   "file_extension": ".py",
   "mimetype": "text/x-python",
   "name": "python",
   "nbconvert_exporter": "python",
   "pygments_lexer": "ipython3",
   "version": "3.12.0"
  }
 },
 "nbformat": 4,
 "nbformat_minor": 2
}
