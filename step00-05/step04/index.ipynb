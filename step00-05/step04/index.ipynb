{
 "cells": [
  {
   "cell_type": "markdown",
   "metadata": {},
   "source": [
    "# Problem Statement\n",
    "This program counts the number of times each number appears in a list. It uses a dictionary to keep track of the information.\n",
    "\n",
    "An example run of the program looks like this (user input is in blue):\n",
    "\n",
    "Enter a number: 3 Enter a number: 4 Enter a number: 3 Enter a number: 6 Enter a number: 4 Enter a number: 3 Enter a number: 12 Enter a number: 3 appears 3 times. 4 appears 2 times. 6 appears 1 times. 12 appears 1 times."
   ]
  },
  {
   "cell_type": "code",
   "execution_count": 8,
   "metadata": {},
   "outputs": [
    {
     "name": "stdout",
     "output_type": "stream",
     "text": [
      "2 appears 3 times\n",
      "3 appears 2 times\n",
      "1 appears 1 times\n"
     ]
    }
   ],
   "source": [
    "def get_lst():\n",
    "    lst = []\n",
    "\n",
    "    while True:\n",
    "        input_val = input('Enter a number :')\n",
    "\n",
    "        if input_val == \"\":\n",
    "            break\n",
    "\n",
    "        num = int(input_val)\n",
    "        lst.append(num)\n",
    "\n",
    "    return lst\n",
    "    \n",
    "\n",
    "def pritnt_dict(num_dict: dict):\n",
    "    for k, v in num_dict.items():\n",
    "        print(f'{k} appears {v} times')\n",
    "\n",
    "\n",
    "\n",
    "\n",
    "def main():\n",
    "    numbers = get_lst()\n",
    "    \n",
    "    num_dict = {}\n",
    "\n",
    "    for n in numbers:\n",
    "        if n not in num_dict:\n",
    "            num_dict[n] = 1\n",
    "        else:\n",
    "            num_dict[n] += 1\n",
    "\n",
    "    pritnt_dict(num_dict)\n",
    "\n",
    "\n",
    "\n",
    "\n",
    "if __name__ == '__main__':\n",
    "    main()"
   ]
  },
  {
   "cell_type": "markdown",
   "metadata": {},
   "source": [
    "# Problem Statement\n",
    "In this program we show an example of using dictionaries to keep track of information in a phonebook."
   ]
  },
  {
   "cell_type": "code",
   "execution_count": 24,
   "metadata": {},
   "outputs": [
    {
     "name": "stdout",
     "output_type": "stream",
     "text": [
      "Abishai -> 03172648144\n",
      "kashif -> 03402096738\n",
      "03402096738\n",
      "03172648144\n",
      "03172648144\n"
     ]
    }
   ],
   "source": [
    "def read_phone_numbers():\n",
    "    \"\"\"\n",
    "    Ask the user for names/numbers to story in a phonebook (dictionary).\n",
    "    Returns the phonebook.\n",
    "    \"\"\"\n",
    "    phonebook = {}                   # Create empty phonebook\n",
    "\n",
    "    while True:\n",
    "        name = input(\"Name: \")\n",
    "        if not name.strip():  # Using strip() to remove any accidental whitespace\n",
    "            break\n",
    "        else:\n",
    "            number = input(\"Number: \")\n",
    "            phonebook[name] = number\n",
    "\n",
    "    return phonebook\n",
    "\n",
    "\n",
    "def print_phonebook(phonebook):\n",
    "    \"\"\"\n",
    "    Prints out all the names/numbers in the phonebook.\n",
    "    \"\"\"\n",
    "    for name, number in phonebook.items():\n",
    "        print(str(name) + \" -> \" + str(number))\n",
    "\n",
    "\n",
    "def lookup_numbers(phonebook):\n",
    "    \"\"\"\n",
    "    Allow the user to lookup phone numbers in the phonebook\n",
    "    by looking up the number associated with a name.\n",
    "    \"\"\"\n",
    "    while True:\n",
    "        if (len(phonebook.keys()) == 0):\n",
    "            break\n",
    "        \n",
    "        name = input(\"Enter name to lookup: \")\n",
    "        if name == \"\":\n",
    "            break\n",
    "        if name not in phonebook:\n",
    "            print(name + \" is not in the phonebook\")\n",
    "        else:\n",
    "            print(phonebook[name])\n",
    "\n",
    "\n",
    "def main():\n",
    "    phonebook = read_phone_numbers()\n",
    "    print_phonebook(phonebook)\n",
    "    lookup_numbers(phonebook)\n",
    "\n",
    "\n",
    "# Python boilerplate.\n",
    "if __name__ == '__main__':\n",
    "    main()"
   ]
  },
  {
   "cell_type": "markdown",
   "metadata": {},
   "source": [
    "# Problem Statement\n",
    "There's a small fruit shop nearby your house that you like to buy from. Since you buy several fruit at a time, you want to keep track of how much the fruit will cost before you go. Luckily you wrote down what fruits were available and how much one of each fruit costs.\n",
    "\n",
    "Write a program that loops through a dictionary of fruits, prompting the user to see how many of each fruit they want to buy, and then prints out the total combined cost of all of the fruits.\n",
    "\n",
    "Here is an example run of the program (user input is in bold italics):\n",
    "\n",
    "How many (apple) do you want?: 2\n",
    "\n",
    "How many (durian) do you want?: 0\n",
    "\n",
    "How many (jackfruit) do you want?: 1\n",
    "\n",
    "How many (kiwi) do you want?: 0\n",
    "\n",
    "How many (rambutan) do you want?: 1\n",
    "\n",
    "How many (mango) do you want?: 3\n",
    "\n",
    "Your total is $99.5"
   ]
  },
  {
   "cell_type": "code",
   "execution_count": null,
   "metadata": {},
   "outputs": [
    {
     "name": "stdout",
     "output_type": "stream",
     "text": [
      "Total cost: 120\n"
     ]
    }
   ],
   "source": [
    "def main():\n",
    "    fruits: dict[str, int] = {\n",
    "        \"apple\": 50,\n",
    "        \"banana\": 20,\n",
    "        \"orange\": 30,\n",
    "        \"kiwi\": 10,\n",
    "        \"rambutan\": 15\n",
    "    }\n",
    "\n",
    "    total_cost = 0\n",
    "\n",
    "    for fruit, quantity in fruits.items():\n",
    "        try:\n",
    "            val = input(f\"How many ({fruit}) do you want? \") \n",
    "            val = int(val) * quantity\n",
    "        except ValueError:\n",
    "            print('Bad input; not a number')\n",
    "\n",
    "        if (val == \"\"):\n",
    "            break\n",
    "\n",
    "        total_cost += val\n",
    "\n",
    "    print(f\"Total cost: {total_cost}\")\n",
    "\n",
    "# This provided line is required at the end of\n",
    "# Python file to call the main() function.\n",
    "if __name__ == '__main__':\n",
    "    main()"
   ]
  },
  {
   "cell_type": "markdown",
   "metadata": {},
   "source": [
    "# Problem Statement\n",
    "You want to be safe online and use different passwords for different websites. However, you are forgetful at times and want to make a program that can match which password belongs to which website without storing the actual password!\n",
    "\n",
    "This can be done via something called hashing. Hashing is when we take something and convert it into a different, unique identifier. This is done using a hash function. Luckily, there are several resources that can help us with this.\n",
    "\n",
    "For example, using a hash function called SHA256(...) something as simple as\n",
    "\n",
    "hello\n",
    "\n",
    "can be hashed into a much more complex\n",
    "\n",
    "2cf24dba5fb0a30e26e83b2ac5b9e29e1b161e5c1fa7425e73043362938b9824\n",
    "\n",
    "Fill out the login(...) function for a website that hashes their passwords. Login should return True if an email's stored password hash in stored_logins is the same as the hash of password_to_check.\n",
    "\n",
    "(Hint. You will need to use the provided hash_password(...) function. You don't necessarily need to know how it works, just know that hash_password(...) returns the hash for the password!)"
   ]
  },
  {
   "cell_type": "code",
   "execution_count": 33,
   "metadata": {},
   "outputs": [
    {
     "name": "stdout",
     "output_type": "stream",
     "text": [
      "False\n",
      "True\n",
      "False\n",
      "True\n",
      "False\n",
      "True\n"
     ]
    }
   ],
   "source": [
    "from hashlib import sha256\n",
    "\n",
    "def login(email, stored_logins, password_to_check):\n",
    "    \"\"\"\n",
    "    Returns True if the hash of the password we are checking matches the one in stored_logins\n",
    "    for a specific email. Otherwise, returns False.\n",
    "\n",
    "    email: the email we are checking the password for\n",
    "    stored_logins: a dictionary pointing from an email to its hashed password\n",
    "    password_to_check: a password we want to test alongside the email to login with\n",
    "    \"\"\"\n",
    "    \n",
    "    if stored_logins[email] == hash_password(password_to_check):\n",
    "        return True\n",
    "    \n",
    "    return False\n",
    "\n",
    "# There is no need to edit code beyond this point\n",
    "\n",
    "def hash_password(password):\n",
    "    \"\"\"\n",
    "    Takes in a password and returns the SHA256 hashed value for that specific password.\n",
    "    \n",
    "    Inputs:\n",
    "        password: the password we want\n",
    "    \n",
    "    Outputs:\n",
    "        the hashed form of the input password\n",
    "    \"\"\"\n",
    "\n",
    "    return sha256(password.encode()).hexdigest()\n",
    "\n",
    "def main():\n",
    "    # stored_logins is a dictionary with emails as keys and hashed passwords as values\n",
    "    stored_logins = {\n",
    "        \"example@gmail.com\": \"5e884898da28047151d0e56f8dc6292773603d0d6aabbdd62a11ef721d1542d8\",\n",
    "        \"code_in_placer@cip.org\": \"973607a4ae7b4cf7d96a100b0fb07e8519cc4f70441d41214a9f811577bb06cc\",\n",
    "        \"student@stanford.edu\": \"882c6df720fd99f5eebb1581a1cf975625cea8a160283011c0b9512bb56c95fb\"\n",
    "    }\n",
    "    \n",
    "    print(login(\"example@gmail.com\", stored_logins, \"word\"))\n",
    "    print(login(\"example@gmail.com\", stored_logins, \"password\"))\n",
    "    \n",
    "    print(login(\"code_in_placer@cip.org\", stored_logins, \"Karel\"))\n",
    "    print(login(\"code_in_placer@cip.org\", stored_logins, \"karel\"))\n",
    "    \n",
    "    print(login(\"student@stanford.edu\", stored_logins, \"password\"))\n",
    "    print(login(\"student@stanford.edu\", stored_logins, \"123!456?789\"))\n",
    "\n",
    "\n",
    "if __name__ == '__main__':\n",
    "    main()"
   ]
  }
 ],
 "metadata": {
  "kernelspec": {
   "display_name": "python12",
   "language": "python",
   "name": "python3"
  },
  "language_info": {
   "codemirror_mode": {
    "name": "ipython",
    "version": 3
   },
   "file_extension": ".py",
   "mimetype": "text/x-python",
   "name": "python",
   "nbconvert_exporter": "python",
   "pygments_lexer": "ipython3",
   "version": "3.12.0"
  }
 },
 "nbformat": 4,
 "nbformat_minor": 2
}
