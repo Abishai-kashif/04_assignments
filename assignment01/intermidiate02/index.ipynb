{
 "cells": [
  {
   "cell_type": "markdown",
   "id": "b3776fa3",
   "metadata": {},
   "source": [
    "# High-Low Game"
   ]
  },
  {
   "cell_type": "code",
   "execution_count": 2,
   "id": "2671434e",
   "metadata": {},
   "outputs": [],
   "source": [
    "import random"
   ]
  },
  {
   "cell_type": "code",
   "execution_count": null,
   "id": "e01dd81e",
   "metadata": {},
   "outputs": [
    {
     "name": "stdout",
     "output_type": "stream",
     "text": [
      "--------------------\n",
      " Round 1 \n",
      "--------------------\n",
      "Your number is 15\n",
      "You were right! The computer's number was 40\n",
      "--------------------\n",
      "\n",
      "Your score is 1\n",
      "--------------------\n",
      " Round 2 \n",
      "--------------------\n",
      "Your number is 81\n",
      "You were wrong! The computer's number was 94\n",
      "--------------------\n",
      "\n",
      "Your score is 1\n",
      "--------------------\n",
      " Round 3 \n",
      "--------------------\n",
      "Your number is 57\n",
      "You were wrong! The computer's number was 96\n",
      "--------------------\n",
      "\n",
      "Your score is 1\n"
     ]
    }
   ],
   "source": [
    "def get_random_number() -> int:\n",
    "    return random.randint(1, 100)\n",
    "\n",
    "def main(): \n",
    "    score = 0\n",
    "\n",
    "    for round in range(1, 4):\n",
    "        user_number = get_random_number()\n",
    "        computer_number = get_random_number()\n",
    "\n",
    "        print(f\"{'-' * 20}\\n\", f\"Round {round}\", f\"\\n{'-' * 20}\")\n",
    "        print(f\"Your number is {user_number}\")\n",
    "        user_guess = input(\"Do you think your number is higher or lower than the computer's?:\")\n",
    "        guess = user_guess.strip().lower()\n",
    "\n",
    "        if (guess == \"low\" and user_number > computer_number) or (guess == \"higher\" and user_number < computer_number):\n",
    "            print(f\"You were right! The computer's number was {computer_number}\")\n",
    "            score += 1\n",
    "        else:\n",
    "            print(f\"You were wrong! The computer's number was {computer_number}\")\n",
    "\n",
    "        print(f\"{'-' * 20}\\n\")\n",
    "        print(f\"Your score is {score}\")\n",
    "\n",
    "\n",
    "    print(f\"{'=' * 20}\\n\", f\"Your final score is {score}\", f\"\\n{'=' * 20}\")\n",
    "\n",
    "\n",
    "if __name__ == \"__main__\":\n",
    "    main()\n"
   ]
  },
  {
   "cell_type": "markdown",
   "id": "a1223b72",
   "metadata": {},
   "source": [
    "# Mars Weight"
   ]
  },
  {
   "cell_type": "code",
   "execution_count": 12,
   "id": "6047e065",
   "metadata": {},
   "outputs": [
    {
     "name": "stdout",
     "output_type": "stream",
     "text": [
      "The equivalent weight on Mercury: 259.00\n"
     ]
    }
   ],
   "source": [
    "GRAVITY = {\n",
    "    \"Mercury\": 3.7,  \n",
    "    \"Venus\": 8.87,   \n",
    "    \"Mars\": 3.71,    \n",
    "    \"Jupiter\": 24.79,\n",
    "    \"Saturn\": 10.44, \n",
    "    \"Uranus\": 8.69,  \n",
    "    \"Neptune\": 11.15 \n",
    "}\n",
    "\n",
    "# Prompt the user for the name of a planet\n",
    "planet = input(\"Enter a planet: \")\n",
    "\n",
    "earth_weight = 70.0 \n",
    "\n",
    "# Get gravity constant, defaulting to Neptune if not found\n",
    "gravity_constant = GRAVITY.get(planet, 11.15)\n",
    "\n",
    "# Calculate the equivalent weight on the selected planet\n",
    "planetary_weight = earth_weight * gravity_constant\n",
    "\n",
    "# Print the result\n",
    "print(f\"The equivalent weight on {planet}: {planetary_weight:.2f}\")\n"
   ]
  },
  {
   "cell_type": "markdown",
   "id": "bf7c68ff",
   "metadata": {},
   "source": [
    "# List Practice Game"
   ]
  },
  {
   "cell_type": "code",
   "execution_count": 13,
   "id": "1c81e360",
   "metadata": {},
   "outputs": [
    {
     "name": "stdout",
     "output_type": "stream",
     "text": [
      "Length of fruit_list: 5\n",
      "Updated fruit_list: ['apple', 'banana', 'orange', 'grape', 'pineapple', 'mango']\n",
      "\n",
      "List Operations Game\n",
      "1. Access an element\n",
      "2. Modify an element\n",
      "3. Slice the list\n",
      "4. Exit\n",
      "Updated list: ['red', \"'abc'\", 'green', 'yellow', 'purple']\n",
      "\n",
      "List Operations Game\n",
      "1. Access an element\n",
      "2. Modify an element\n",
      "3. Slice the list\n",
      "4. Exit\n",
      "Invalid option. Try again.\n",
      "\n",
      "List Operations Game\n",
      "1. Access an element\n",
      "2. Modify an element\n",
      "3. Slice the list\n",
      "4. Exit\n",
      "Invalid option. Try again.\n",
      "\n",
      "List Operations Game\n",
      "1. Access an element\n",
      "2. Modify an element\n",
      "3. Slice the list\n",
      "4. Exit\n",
      "Invalid option. Try again.\n",
      "\n",
      "List Operations Game\n",
      "1. Access an element\n",
      "2. Modify an element\n",
      "3. Slice the list\n",
      "4. Exit\n",
      "Invalid option. Try again.\n",
      "\n",
      "List Operations Game\n",
      "1. Access an element\n",
      "2. Modify an element\n",
      "3. Slice the list\n",
      "4. Exit\n",
      "Invalid option. Try again.\n",
      "\n",
      "List Operations Game\n",
      "1. Access an element\n",
      "2. Modify an element\n",
      "3. Slice the list\n",
      "4. Exit\n"
     ]
    },
    {
     "ename": "",
     "evalue": "",
     "output_type": "error",
     "traceback": [
      "\u001b[1;31mThe Kernel crashed while executing code in the current cell or a previous cell. \n",
      "\u001b[1;31mPlease review the code in the cell(s) to identify a possible cause of the failure. \n",
      "\u001b[1;31mClick <a href='https://aka.ms/vscodeJupyterKernelCrash'>here</a> for more info. \n",
      "\u001b[1;31mView Jupyter <a href='command:jupyter.viewOutput'>log</a> for further details."
     ]
    }
   ],
   "source": [
    "def main():\n",
    "    fruit_list = ['apple', 'banana', 'orange', 'grape', 'pineapple']\n",
    "    print(\"Length of fruit_list:\", len(fruit_list))\n",
    "    \n",
    "    fruit_list.append('mango')\n",
    "    print(\"Updated fruit_list:\", fruit_list)\n",
    "\n",
    "\n",
    "def access_element(lst, index):\n",
    "    try:\n",
    "        return lst[index]\n",
    "    except IndexError:\n",
    "        return \"Index out of range.\"\n",
    "\n",
    "\n",
    "def modify_element(lst, index, new_value):\n",
    "    try:\n",
    "        lst[index] = new_value\n",
    "        return lst\n",
    "    except IndexError:\n",
    "        return \"Index out of range.\"\n",
    "\n",
    "\n",
    "def slice_list(lst, start, end):\n",
    "    return lst[start:end]\n",
    "\n",
    "\n",
    "def game():\n",
    "    elements = [\"red\", \"blue\", \"green\", \"yellow\", \"purple\"]\n",
    "    \n",
    "    while True:\n",
    "        print(\"\\nList Operations Game\")\n",
    "        print(\"1. Access an element\")\n",
    "        print(\"2. Modify an element\")\n",
    "        print(\"3. Slice the list\")\n",
    "        print(\"4. Exit\")\n",
    "        \n",
    "        choice = input(\"Choose an option (1-4): \")\n",
    "        \n",
    "        if choice == '1':\n",
    "            index = int(input(\"Enter index: \"))\n",
    "            print(\"Element:\", access_element(elements, index))\n",
    "        elif choice == '2':\n",
    "            index = int(input(\"Enter index: \"))\n",
    "            new_value = input(\"Enter new value: \")\n",
    "            print(\"Updated list:\", modify_element(elements, index, new_value))\n",
    "        elif choice == '3':\n",
    "            start = int(input(\"Enter start index: \"))\n",
    "            end = int(input(\"Enter end index: \"))\n",
    "            print(\"Sliced list:\", slice_list(elements, start, end))\n",
    "        elif choice == '4':\n",
    "            print(\"Goodbye!\")\n",
    "            break\n",
    "        else:\n",
    "            print(\"Invalid option. Try again.\")\n",
    "\n",
    "\n",
    "if __name__ == \"__main__\":\n",
    "    main()\n",
    "    game()\n"
   ]
  }
 ],
 "metadata": {
  "kernelspec": {
   "display_name": "python12",
   "language": "python",
   "name": "python3"
  },
  "language_info": {
   "codemirror_mode": {
    "name": "ipython",
    "version": 3
   },
   "file_extension": ".py",
   "mimetype": "text/x-python",
   "name": "python",
   "nbconvert_exporter": "python",
   "pygments_lexer": "ipython3",
   "version": "3.12.0"
  }
 },
 "nbformat": 4,
 "nbformat_minor": 5
}
