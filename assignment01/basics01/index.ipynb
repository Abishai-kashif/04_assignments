{
 "cells": [
  {
   "cell_type": "markdown",
   "id": "2ca75ca0",
   "metadata": {
    "vscode": {
     "languageId": "plaintext"
    }
   },
   "source": [
    "# Joke Bot"
   ]
  },
  {
   "cell_type": "code",
   "execution_count": 3,
   "id": "ba6d4094",
   "metadata": {},
   "outputs": [
    {
     "name": "stdout",
     "output_type": "stream",
     "text": [
      "Here is a joke for you! Sophia is heading out to the grocery store. A programmer tells her: get a liter of milk, and if they have eggs, get 12. Sophia returns with 13 liters of milk. The programmer asks why and Sophia replies: 'because they had eggs'\n"
     ]
    }
   ],
   "source": [
    "PROMPT: str = \"What do you want? \"\n",
    "JOKE: str = \"Here is a joke for you! Sophia is heading out to the grocery store. A programmer tells her: get a liter of milk, and if they have eggs, get 12. Sophia returns with 13 liters of milk. The programmer asks why and Sophia replies: 'because they had eggs'\"\n",
    "SORRY: str = \"Sorry I only tell jokes.\"\n",
    "\n",
    "def main():\n",
    "  \n",
    "    user_input = input(PROMPT).strip().lower()\n",
    "    \n",
    "    if \"joke\" in user_input:\n",
    "        print(JOKE)\n",
    "    else:\n",
    "        print(SORRY)\n",
    "\n",
    "if __name__ == \"__main__\":\n",
    "    main()"
   ]
  },
  {
   "cell_type": "markdown",
   "id": "696207f5",
   "metadata": {},
   "source": [
    "# Double It"
   ]
  },
  {
   "cell_type": "code",
   "execution_count": 8,
   "id": "043d55ae",
   "metadata": {},
   "outputs": [
    {
     "name": "stdout",
     "output_type": "stream",
     "text": [
      "2\n",
      "4\n",
      "8\n",
      "16\n",
      "32\n",
      "64\n",
      "128\n"
     ]
    }
   ],
   "source": [
    "def main():\n",
    "    try: \n",
    "        current_value = int(input(\"Enter the current value: \"))\n",
    "\n",
    "        while current_value < 100:\n",
    "            current_value *= 2\n",
    "            print(current_value)\n",
    "\n",
    "\n",
    "    except ValueError as e:\n",
    "        print(\"Invalid input. Please enter a number. \", e)\n",
    "\n",
    "    except TypeError as e:\n",
    "        print(\"Invalid input. Please enter a number: \", e)\n",
    "\n",
    "    except Exception as e:\n",
    "        print(\"An error occurred: \", e)\n",
    "\n",
    "\n",
    "\n",
    "\n",
    "\n",
    "# This provided line is required at the end of\n",
    "# Python file to call the main() function.\n",
    "if __name__ == '__main__':\n",
    "    main()"
   ]
  },
  {
   "cell_type": "markdown",
   "id": "c553b1ed",
   "metadata": {},
   "source": [
    "# Liftoff"
   ]
  },
  {
   "cell_type": "code",
   "execution_count": 11,
   "id": "a06b56c0",
   "metadata": {},
   "outputs": [],
   "source": [
    "import time"
   ]
  },
  {
   "cell_type": "code",
   "execution_count": null,
   "id": "427a9fbb",
   "metadata": {},
   "outputs": [
    {
     "name": "stdout",
     "output_type": "stream",
     "text": [
      "1 2 3 4 5 6 7 8 9 10 liftOff!\n"
     ]
    }
   ],
   "source": [
    "def main():\n",
    "    i  = 1\n",
    "    while i <= 10:\n",
    "        time.sleep(1)\n",
    "        print(i, end=\" \")\n",
    "        i += 1\n",
    "\n",
    "    print(\"liftOff!\")\n",
    "\n",
    "\n",
    "\n",
    "\n",
    "\n",
    "if __name__ == '__main__':\n",
    "    main()"
   ]
  },
  {
   "cell_type": "markdown",
   "id": "a2918622",
   "metadata": {},
   "source": [
    "# Guess my Number"
   ]
  },
  {
   "cell_type": "code",
   "execution_count": 13,
   "id": "b6c0bdda",
   "metadata": {},
   "outputs": [],
   "source": [
    "import random"
   ]
  },
  {
   "cell_type": "code",
   "execution_count": null,
   "id": "82d7f8da",
   "metadata": {},
   "outputs": [
    {
     "name": "stdout",
     "output_type": "stream",
     "text": [
      "Your guess is too low\n",
      "Your guess is too high\n",
      "Your guess is too low\n",
      "Your guess is too low\n",
      "Your guess is too low\n",
      "Your guess is too low\n",
      "Congrats! The number was: 11\n",
      "Congrats! The number was: 11\n"
     ]
    }
   ],
   "source": [
    "def main():\n",
    "    secret_number = random.randint(0, 99)\n",
    "    try:\n",
    "        guess = int(input(\"I am thinking of a number between 0 and 99... Enter a guess: \"))\n",
    "        while guess != secret_number:\n",
    "            if guess > secret_number:\n",
    "                print(\"Your guess is too high\")\n",
    "            else:\n",
    "                print(\"Your guess is too low\")\n",
    "\n",
    "            guess = int(input(\"Enter a new number: \"))\n",
    "        \n",
    "        print(\"Congrats! The number was:\", secret_number)\n",
    "\n",
    "    except ValueError as e:\n",
    "        print(\"Invalid input. Please enter a number: \", e)\n",
    "\n",
    "    except Exception as e:\n",
    "        print(\"An error occurred: \", e)\n",
    "        \n",
    "    print(\"Congrats! The number was:\", secret_number)\n",
    "\n",
    "\n",
    "\n",
    "if __name__ == '__main__':\n",
    "    main()"
   ]
  },
  {
   "cell_type": "markdown",
   "id": "4dbc232f",
   "metadata": {},
   "source": [
    "# Random Numbers\n"
   ]
  },
  {
   "cell_type": "code",
   "execution_count": 21,
   "id": "eb85cb86",
   "metadata": {},
   "outputs": [
    {
     "name": "stdout",
     "output_type": "stream",
     "text": [
      "59\n",
      "51\n",
      "57\n",
      "2\n",
      "16\n",
      "48\n",
      "45\n",
      "10\n",
      "70\n",
      "8\n"
     ]
    }
   ],
   "source": [
    "def main():\n",
    "    for _ in range(10):\n",
    "        value = random.randint(0, 99)\n",
    "        print(value)\n",
    "\n",
    "\n",
    "\n",
    "if __name__ == '__main__':\n",
    "    main()"
   ]
  }
 ],
 "metadata": {
  "kernelspec": {
   "display_name": "python12",
   "language": "python",
   "name": "python3"
  },
  "language_info": {
   "codemirror_mode": {
    "name": "ipython",
    "version": 3
   },
   "file_extension": ".py",
   "mimetype": "text/x-python",
   "name": "python",
   "nbconvert_exporter": "python",
   "pygments_lexer": "ipython3",
   "version": "3.12.0"
  }
 },
 "nbformat": 4,
 "nbformat_minor": 5
}
